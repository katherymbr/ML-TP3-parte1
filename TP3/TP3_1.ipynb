{
  "nbformat": 4,
  "nbformat_minor": 0,
  "metadata": {
    "colab": {
      "name": "TP3-1.ipynb",
      "provenance": [],
      "collapsed_sections": [],
      "include_colab_link": true
    },
    "kernelspec": {
      "name": "python3",
      "display_name": "Python 3"
    }
  },
  "cells": [
    {
      "cell_type": "markdown",
      "metadata": {
        "id": "view-in-github",
        "colab_type": "text"
      },
      "source": [
        "<a href=\"https://colab.research.google.com/github/katherymbr/ML-TP3-parte1/blob/main/TP3/TP3_1.ipynb\" target=\"_parent\"><img src=\"https://colab.research.google.com/assets/colab-badge.svg\" alt=\"Open In Colab\"/></a>"
      ]
    },
    {
      "cell_type": "markdown",
      "metadata": {
        "id": "k9YsvzH2a02X"
      },
      "source": [
        "# **EJERCICIO # 1**\n",
        "\n",
        "Supongamos que tenemos un dataset mezcla de dos grupos aleatorios bidimensionales (cada uno con 100 datos, su centroide y covariancia).\n",
        "Tip: reutilizar el código de la NB que vimos para outliers.\n",
        "Encontrar un clasificador por K-NN y evaluar exactitud, precisión, f-measure. Tomar inicialmente un dataset de entrenamiento de N=100 (50+50), k=10, y validar con el resto del dataset. Hacer algunos experimentos con otros N y k, y también cambiando centroide y covariancia de las clases."
      ]
    },
    {
      "cell_type": "code",
      "metadata": {
        "id": "TMSPNGoLbH-K"
      },
      "source": [
        "import random\n",
        "import numpy as np\n",
        "import pandas as pd\n",
        "import seaborn as sns\n",
        "import matplotlib.pyplot as plt"
      ],
      "execution_count": 1,
      "outputs": []
    },
    {
      "cell_type": "code",
      "metadata": {
        "id": "KEqK2I0mapez",
        "outputId": "ed21d1f6-d137-45c0-b5b2-87fdf16e4b88",
        "colab": {
          "base_uri": "https://localhost:8080/",
          "height": 206
        }
      },
      "source": [
        "N_data = 100\n",
        "mediaA1 = 5\n",
        "mediaB1 = 2\n",
        "desvA1 = 2\n",
        "desvB1 = 2.5\n",
        "\n",
        "mediaA2 = 6\n",
        "mediaB2 = 8\n",
        "desvA2 = 2\n",
        "desvB2 = 2\n",
        "\n",
        "X1, Y1 = np.random.normal(loc= mediaA1, scale=desvA1, size=N_data), np.random.normal(loc= mediaB1, scale=desvB1, size=N_data)\n",
        "df1 = pd.DataFrame({'Target':'1','X':X1,'Y':Y1})\n",
        "\n",
        "X2, Y2 = np.random.normal(loc= mediaA2, scale=desvA2, size=N_data), np.random.normal(loc= mediaB2, scale=desvB2, size=N_data)\n",
        "df2 = pd.DataFrame({'Target':'0','X':X2,'Y':Y2})\n",
        "\n",
        "df = pd.concat([df1,df2], ignore_index= True, axis=0)\n",
        "df = df.sample(n = N_data*2) \n",
        "df.head()"
      ],
      "execution_count": 2,
      "outputs": [
        {
          "output_type": "execute_result",
          "data": {
            "text/html": [
              "\n",
              "  <div id=\"df-05f4705b-db2c-44fe-97aa-66d563ed61b6\">\n",
              "    <div class=\"colab-df-container\">\n",
              "      <div>\n",
              "<style scoped>\n",
              "    .dataframe tbody tr th:only-of-type {\n",
              "        vertical-align: middle;\n",
              "    }\n",
              "\n",
              "    .dataframe tbody tr th {\n",
              "        vertical-align: top;\n",
              "    }\n",
              "\n",
              "    .dataframe thead th {\n",
              "        text-align: right;\n",
              "    }\n",
              "</style>\n",
              "<table border=\"1\" class=\"dataframe\">\n",
              "  <thead>\n",
              "    <tr style=\"text-align: right;\">\n",
              "      <th></th>\n",
              "      <th>Target</th>\n",
              "      <th>X</th>\n",
              "      <th>Y</th>\n",
              "    </tr>\n",
              "  </thead>\n",
              "  <tbody>\n",
              "    <tr>\n",
              "      <th>59</th>\n",
              "      <td>1</td>\n",
              "      <td>6.672497</td>\n",
              "      <td>4.871740</td>\n",
              "    </tr>\n",
              "    <tr>\n",
              "      <th>197</th>\n",
              "      <td>0</td>\n",
              "      <td>5.900468</td>\n",
              "      <td>9.250188</td>\n",
              "    </tr>\n",
              "    <tr>\n",
              "      <th>50</th>\n",
              "      <td>1</td>\n",
              "      <td>4.956232</td>\n",
              "      <td>1.154314</td>\n",
              "    </tr>\n",
              "    <tr>\n",
              "      <th>76</th>\n",
              "      <td>1</td>\n",
              "      <td>5.961371</td>\n",
              "      <td>3.092231</td>\n",
              "    </tr>\n",
              "    <tr>\n",
              "      <th>159</th>\n",
              "      <td>0</td>\n",
              "      <td>5.563762</td>\n",
              "      <td>7.957801</td>\n",
              "    </tr>\n",
              "  </tbody>\n",
              "</table>\n",
              "</div>\n",
              "      <button class=\"colab-df-convert\" onclick=\"convertToInteractive('df-05f4705b-db2c-44fe-97aa-66d563ed61b6')\"\n",
              "              title=\"Convert this dataframe to an interactive table.\"\n",
              "              style=\"display:none;\">\n",
              "        \n",
              "  <svg xmlns=\"http://www.w3.org/2000/svg\" height=\"24px\"viewBox=\"0 0 24 24\"\n",
              "       width=\"24px\">\n",
              "    <path d=\"M0 0h24v24H0V0z\" fill=\"none\"/>\n",
              "    <path d=\"M18.56 5.44l.94 2.06.94-2.06 2.06-.94-2.06-.94-.94-2.06-.94 2.06-2.06.94zm-11 1L8.5 8.5l.94-2.06 2.06-.94-2.06-.94L8.5 2.5l-.94 2.06-2.06.94zm10 10l.94 2.06.94-2.06 2.06-.94-2.06-.94-.94-2.06-.94 2.06-2.06.94z\"/><path d=\"M17.41 7.96l-1.37-1.37c-.4-.4-.92-.59-1.43-.59-.52 0-1.04.2-1.43.59L10.3 9.45l-7.72 7.72c-.78.78-.78 2.05 0 2.83L4 21.41c.39.39.9.59 1.41.59.51 0 1.02-.2 1.41-.59l7.78-7.78 2.81-2.81c.8-.78.8-2.07 0-2.86zM5.41 20L4 18.59l7.72-7.72 1.47 1.35L5.41 20z\"/>\n",
              "  </svg>\n",
              "      </button>\n",
              "      \n",
              "  <style>\n",
              "    .colab-df-container {\n",
              "      display:flex;\n",
              "      flex-wrap:wrap;\n",
              "      gap: 12px;\n",
              "    }\n",
              "\n",
              "    .colab-df-convert {\n",
              "      background-color: #E8F0FE;\n",
              "      border: none;\n",
              "      border-radius: 50%;\n",
              "      cursor: pointer;\n",
              "      display: none;\n",
              "      fill: #1967D2;\n",
              "      height: 32px;\n",
              "      padding: 0 0 0 0;\n",
              "      width: 32px;\n",
              "    }\n",
              "\n",
              "    .colab-df-convert:hover {\n",
              "      background-color: #E2EBFA;\n",
              "      box-shadow: 0px 1px 2px rgba(60, 64, 67, 0.3), 0px 1px 3px 1px rgba(60, 64, 67, 0.15);\n",
              "      fill: #174EA6;\n",
              "    }\n",
              "\n",
              "    [theme=dark] .colab-df-convert {\n",
              "      background-color: #3B4455;\n",
              "      fill: #D2E3FC;\n",
              "    }\n",
              "\n",
              "    [theme=dark] .colab-df-convert:hover {\n",
              "      background-color: #434B5C;\n",
              "      box-shadow: 0px 1px 3px 1px rgba(0, 0, 0, 0.15);\n",
              "      filter: drop-shadow(0px 1px 2px rgba(0, 0, 0, 0.3));\n",
              "      fill: #FFFFFF;\n",
              "    }\n",
              "  </style>\n",
              "\n",
              "      <script>\n",
              "        const buttonEl =\n",
              "          document.querySelector('#df-05f4705b-db2c-44fe-97aa-66d563ed61b6 button.colab-df-convert');\n",
              "        buttonEl.style.display =\n",
              "          google.colab.kernel.accessAllowed ? 'block' : 'none';\n",
              "\n",
              "        async function convertToInteractive(key) {\n",
              "          const element = document.querySelector('#df-05f4705b-db2c-44fe-97aa-66d563ed61b6');\n",
              "          const dataTable =\n",
              "            await google.colab.kernel.invokeFunction('convertToInteractive',\n",
              "                                                     [key], {});\n",
              "          if (!dataTable) return;\n",
              "\n",
              "          const docLinkHtml = 'Like what you see? Visit the ' +\n",
              "            '<a target=\"_blank\" href=https://colab.research.google.com/notebooks/data_table.ipynb>data table notebook</a>'\n",
              "            + ' to learn more about interactive tables.';\n",
              "          element.innerHTML = '';\n",
              "          dataTable['output_type'] = 'display_data';\n",
              "          await google.colab.output.renderOutput(dataTable, element);\n",
              "          const docLink = document.createElement('div');\n",
              "          docLink.innerHTML = docLinkHtml;\n",
              "          element.appendChild(docLink);\n",
              "        }\n",
              "      </script>\n",
              "    </div>\n",
              "  </div>\n",
              "  "
            ],
            "text/plain": [
              "    Target         X         Y\n",
              "59       1  6.672497  4.871740\n",
              "197      0  5.900468  9.250188\n",
              "50       1  4.956232  1.154314\n",
              "76       1  5.961371  3.092231\n",
              "159      0  5.563762  7.957801"
            ]
          },
          "metadata": {},
          "execution_count": 2
        }
      ]
    },
    {
      "cell_type": "code",
      "metadata": {
        "id": "n2yGbATgc13S",
        "outputId": "404ff3da-79d4-444e-f264-e5f1768af16f",
        "colab": {
          "base_uri": "https://localhost:8080/",
          "height": 296
        }
      },
      "source": [
        "sns.scatterplot(data=df, x=\"X\", y=\"Y\", hue=\"Target\", style=\"Target\")"
      ],
      "execution_count": 3,
      "outputs": [
        {
          "output_type": "execute_result",
          "data": {
            "text/plain": [
              "<matplotlib.axes._subplots.AxesSubplot at 0x7f0701aa16d0>"
            ]
          },
          "metadata": {},
          "execution_count": 3
        },
        {
          "output_type": "display_data",
          "data": {
            "image/png": "[encoded data removed]",
            "text/plain": [
              "<Figure size 432x288 with 1 Axes>"
            ]
          },
          "metadata": {
            "needs_background": "light"
          }
        }
      ]
    },
    {
      "cell_type": "markdown",
      "metadata": {
        "id": "oMRZnwjnkqQH"
      },
      "source": [
        "Se fracciona el Dataset en Train y Test en 50/50"
      ]
    },
    {
      "cell_type": "code",
      "metadata": {
        "id": "6orckEbxd6mv"
      },
      "source": [
        "from sklearn import neighbors\n",
        "from sklearn.model_selection import train_test_split\n",
        "from sklearn import metrics\n",
        "\n",
        "X = df.iloc[:,1:3]\n",
        "y = df.iloc[:,0]\n",
        "X_train, X_test, y_train, y_test = train_test_split(X, y, test_size=0.5, random_state=42)"
      ],
      "execution_count": 4,
      "outputs": []
    },
    {
      "cell_type": "markdown",
      "metadata": {
        "id": "885ivjd6k2CL"
      },
      "source": [
        "Se entrena el modelo KNN para un valor de 10 vecinos cercanos y se observan los parametros de calidad del modelo"
      ]
    },
    {
      "cell_type": "code",
      "metadata": {
        "id": "q1licVnJg7b4",
        "outputId": "b48b2900-7c07-4289-dde9-c87feb58290b",
        "colab": {
          "base_uri": "https://localhost:8080/"
        }
      },
      "source": [
        "k = 10\n",
        "knn = neighbors.KNeighborsClassifier(n_neighbors=k)\n",
        "knn.fit(X_train, y_train)\n",
        "y_predicted =knn.predict(X_test)\n",
        "print(\"Classification report for classifier {}\\n{}\\n\".format(knn, metrics.classification_report(y_test, y_predicted)))"
      ],
      "execution_count": 5,
      "outputs": [
        {
          "output_type": "stream",
          "name": "stdout",
          "text": [
            "Classification report for classifier KNeighborsClassifier(n_neighbors=10)\n",
            "              precision    recall  f1-score   support\n",
            "\n",
            "           0       0.89      0.79      0.84        53\n",
            "           1       0.79      0.89      0.84        47\n",
            "\n",
            "    accuracy                           0.84       100\n",
            "   macro avg       0.84      0.84      0.84       100\n",
            "weighted avg       0.85      0.84      0.84       100\n",
            "\n",
            "\n"
          ]
        }
      ]
    },
    {
      "cell_type": "code",
      "metadata": {
        "id": "ruwnOEjOlWYr",
        "outputId": "7d2c9e27-149e-4e6d-9e13-97b722f64ba2",
        "colab": {
          "base_uri": "https://localhost:8080/",
          "height": 279
        }
      },
      "source": [
        "confusion_matrix = pd.crosstab(y_test, y_predicted, rownames=['Actual'], colnames=['Predicted'])\n",
        "sns.heatmap(confusion_matrix, annot=True)\n",
        "plt.show()"
      ],
      "execution_count": 6,
      "outputs": [
        {
          "output_type": "display_data",
          "data": {
            "image/png": "[encoded data removed]",
            "text/plain": [
              "<Figure size 432x288 with 2 Axes>"
            ]
          },
          "metadata": {
            "needs_background": "light"
          }
        }
      ]
    },
    {
      "cell_type": "markdown",
      "metadata": {
        "id": "WlzSgGdOzcXn"
      },
      "source": [
        "Se puede observar como el modelo en general hace una buena clasificación y manteniendo los parametros de calidad del modelo por encima de 0.9"
      ]
    },
    {
      "cell_type": "markdown",
      "metadata": {
        "id": "eOQWcGVJnCyB"
      },
      "source": [
        "**Variando el tamaño de dataset N = 100, 300, 600, 900. Manteniendo k = 10**"
      ]
    },
    {
      "cell_type": "code",
      "metadata": {
        "id": "wCEt1_QknZFq",
        "outputId": "beed09fe-f5c5-42c3-f18a-3267a15545d0",
        "colab": {
          "base_uri": "https://localhost:8080/",
          "height": 1000
        }
      },
      "source": [
        "N_data = [100, 300, 600, 900]\n",
        "\n",
        "for a in N_data:\n",
        "\n",
        "  X1, Y1 = np.random.normal(loc= mediaA1, scale=desvA1, size=a), np.random.normal(loc= mediaB1, scale=desvB1, size=a)\n",
        "  df1 = pd.DataFrame({'Target':'1','X':X1,'Y':Y1})\n",
        "\n",
        "  X2, Y2 = np.random.normal(loc= mediaA2, scale=desvA2, size=a), np.random.normal(loc= mediaB2, scale=desvB2, size=a)\n",
        "  df2 = pd.DataFrame({'Target':'0','X':X2,'Y':Y2})\n",
        "\n",
        "  df = pd.concat([df1,df2], ignore_index= True, axis=0)\n",
        "  df = df.sample(n = a*2) \n",
        "  X = df.iloc[:,1:3]\n",
        "  y = df.iloc[:,0]\n",
        "  X_train, X_test, y_train, y_test = train_test_split(X, y, test_size=0.5, random_state=42)\n",
        "  knn.fit(X_train, y_train)\n",
        "  y_predicted =knn.predict(X_test)\n",
        "  print(\"Classification report for classifier {}\\n{}\\n\".format(knn, metrics.classification_report(y_test, y_predicted)))\n",
        "  confusion_matrix = pd.crosstab(y_test, y_predicted, rownames=['Actual'], colnames=['Predicted'])\n",
        "  sns.heatmap(confusion_matrix, annot=True)\n",
        "  plt.show()"
      ],
      "execution_count": 7,
      "outputs": [
        {
          "output_type": "stream",
          "name": "stdout",
          "text": [
            "Classification report for classifier KNeighborsClassifier(n_neighbors=10)\n",
            "              precision    recall  f1-score   support\n",
            "\n",
            "           0       0.78      0.93      0.85        54\n",
            "           1       0.89      0.70      0.78        46\n",
            "\n",
            "    accuracy                           0.82       100\n",
            "   macro avg       0.84      0.81      0.81       100\n",
            "weighted avg       0.83      0.82      0.82       100\n",
            "\n",
            "\n"
          ]
        },
        {
          "output_type": "display_data",
          "data": {
            "image/png": "[encoded data removed]",
            "text/plain": [
              "<Figure size 432x288 with 2 Axes>"
            ]
          },
          "metadata": {
            "needs_background": "light"
          }
        },
        {
          "output_type": "stream",
          "name": "stdout",
          "text": [
            "Classification report for classifier KNeighborsClassifier(n_neighbors=10)\n",
            "              precision    recall  f1-score   support\n",
            "\n",
            "           0       0.86      0.93      0.89       149\n",
            "           1       0.93      0.85      0.89       151\n",
            "\n",
            "    accuracy                           0.89       300\n",
            "   macro avg       0.89      0.89      0.89       300\n",
            "weighted avg       0.89      0.89      0.89       300\n",
            "\n",
            "\n"
          ]
        },
        {
          "output_type": "display_data",
          "data": {
            "image/png": "[encoded data removed]",
            "text/plain": [
              "<Figure size 432x288 with 2 Axes>"
            ]
          },
          "metadata": {
            "needs_background": "light"
          }
        },
        {
          "output_type": "stream",
          "name": "stdout",
          "text": [
            "Classification report for classifier KNeighborsClassifier(n_neighbors=10)\n",
            "              precision    recall  f1-score   support\n",
            "\n",
            "           0       0.91      0.97      0.94       298\n",
            "           1       0.97      0.90      0.93       302\n",
            "\n",
            "    accuracy                           0.94       600\n",
            "   macro avg       0.94      0.94      0.94       600\n",
            "weighted avg       0.94      0.94      0.94       600\n",
            "\n",
            "\n"
          ]
        },
        {
          "output_type": "display_data",
          "data": {
            "image/png": "[encoded data removed]",
            "text/plain": [
              "<Figure size 432x288 with 2 Axes>"
            ]
          },
          "metadata": {
            "needs_background": "light"
          }
        },
        {
          "output_type": "stream",
          "name": "stdout",
          "text": [
            "Classification report for classifier KNeighborsClassifier(n_neighbors=10)\n",
            "              precision    recall  f1-score   support\n",
            "\n",
            "           0       0.89      0.93      0.91       445\n",
            "           1       0.93      0.89      0.91       455\n",
            "\n",
            "    accuracy                           0.91       900\n",
            "   macro avg       0.91      0.91      0.91       900\n",
            "weighted avg       0.91      0.91      0.91       900\n",
            "\n",
            "\n"
          ]
        },
        {
          "output_type": "display_data",
          "data": {
            "image/png": "[encoded data removed]",
            "text/plain": [
              "<Figure size 432x288 with 2 Axes>"
            ]
          },
          "metadata": {
            "needs_background": "light"
          }
        }
      ]
    },
    {
      "cell_type": "markdown",
      "metadata": {
        "id": "G2OClu52ymqZ"
      },
      "source": [
        "Existe alguna variación en los parametros de calidad del modelo a medida que se aumenta el numero de datos, esto debido a la distribución de estos en fucion de la media y la covarianza. Sin embargo el modelo es muy estable y mantiene buenos indices de clasificación. "
      ]
    },
    {
      "cell_type": "markdown",
      "metadata": {
        "id": "9swY0xFAq6aO"
      },
      "source": [
        "**Variando el numero de vecinos k, para N = 100**"
      ]
    },
    {
      "cell_type": "code",
      "metadata": {
        "id": "gKcuLVPZq5kM",
        "outputId": "a300d752-2fb5-484d-b1a8-1f72a09facbe",
        "colab": {
          "base_uri": "https://localhost:8080/",
          "height": 1000
        }
      },
      "source": [
        "\n",
        "N_data = 100\n",
        "\n",
        "X1, Y1 = np.random.normal(loc= mediaA1, scale=desvA1, size=N_data), np.random.normal(loc= mediaB1, scale=desvB1, size=N_data)\n",
        "df1 = pd.DataFrame({'Target':'1','X':X1,'Y':Y1})\n",
        "\n",
        "X2, Y2 = np.random.normal(loc= mediaA2, scale=desvA2, size=N_data), np.random.normal(loc= mediaB2, scale=desvB2, size=N_data)\n",
        "df2 = pd.DataFrame({'Target':'0','X':X2,'Y':Y2})\n",
        "\n",
        "df = pd.concat([df1,df2], ignore_index= True, axis=0)\n",
        "df = df.sample(n = N_data*2) \n",
        "\n",
        "X = df.iloc[:,1:3]\n",
        "y = df.iloc[:,0]\n",
        "X_train, X_test, y_train, y_test = train_test_split(X, y, test_size=0.5, random_state=42)\n",
        "\n",
        "knn = [5, 10, 20, 40, 80]\n",
        "\n",
        "for k in knn:\n",
        "  knn = neighbors.KNeighborsClassifier(n_neighbors=k)\n",
        "  knn.fit(X_train, y_train)\n",
        "  y_predicted =knn.predict(X_test)\n",
        "  print('valor de k =' + str(k))\n",
        "  print(\"Classification report for classifier {}\\n{}\\n\".format(knn, metrics.classification_report(y_test, y_predicted)))\n",
        "  confusion_matrix = pd.crosstab(y_test, y_predicted, rownames=['Actual'], colnames=['Predicted'])\n",
        "  sns.heatmap(confusion_matrix, annot=True)\n",
        "  plt.show()"
      ],
      "execution_count": 8,
      "outputs": [
        {
          "output_type": "stream",
          "name": "stdout",
          "text": [
            "valor de k =5\n",
            "Classification report for classifier KNeighborsClassifier()\n",
            "              precision    recall  f1-score   support\n",
            "\n",
            "           0       0.94      0.89      0.91        54\n",
            "           1       0.88      0.93      0.91        46\n",
            "\n",
            "    accuracy                           0.91       100\n",
            "   macro avg       0.91      0.91      0.91       100\n",
            "weighted avg       0.91      0.91      0.91       100\n",
            "\n",
            "\n"
          ]
        },
        {
          "output_type": "display_data",
          "data": {
            "image/png": "[encoded data removed]",
            "text/plain": [
              "<Figure size 432x288 with 2 Axes>"
            ]
          },
          "metadata": {
            "needs_background": "light"
          }
        },
        {
          "output_type": "stream",
          "name": "stdout",
          "text": [
            "valor de k =10\n",
            "Classification report for classifier KNeighborsClassifier(n_neighbors=10)\n",
            "              precision    recall  f1-score   support\n",
            "\n",
            "           0       0.94      0.94      0.94        54\n",
            "           1       0.93      0.93      0.93        46\n",
            "\n",
            "    accuracy                           0.94       100\n",
            "   macro avg       0.94      0.94      0.94       100\n",
            "weighted avg       0.94      0.94      0.94       100\n",
            "\n",
            "\n"
          ]
        },
        {
          "output_type": "display_data",
          "data": {
            "image/png": "[encoded data removed]",
            "text/plain": [
              "<Figure size 432x288 with 2 Axes>"
            ]
          },
          "metadata": {
            "needs_background": "light"
          }
        },
        {
          "output_type": "stream",
          "name": "stdout",
          "text": [
            "valor de k =20\n",
            "Classification report for classifier KNeighborsClassifier(n_neighbors=20)\n",
            "              precision    recall  f1-score   support\n",
            "\n",
            "           0       0.91      0.93      0.92        54\n",
            "           1       0.91      0.89      0.90        46\n",
            "\n",
            "    accuracy                           0.91       100\n",
            "   macro avg       0.91      0.91      0.91       100\n",
            "weighted avg       0.91      0.91      0.91       100\n",
            "\n",
            "\n"
          ]
        },
        {
          "output_type": "display_data",
          "data": {
            "image/png": "[encoded data removed]",
            "text/plain": [
              "<Figure size 432x288 with 2 Axes>"
            ]
          },
          "metadata": {
            "needs_background": "light"
          }
        },
        {
          "output_type": "stream",
          "name": "stdout",
          "text": [
            "valor de k =40\n",
            "Classification report for classifier KNeighborsClassifier(n_neighbors=40)\n",
            "              precision    recall  f1-score   support\n",
            "\n",
            "           0       0.91      0.93      0.92        54\n",
            "           1       0.91      0.89      0.90        46\n",
            "\n",
            "    accuracy                           0.91       100\n",
            "   macro avg       0.91      0.91      0.91       100\n",
            "weighted avg       0.91      0.91      0.91       100\n",
            "\n",
            "\n"
          ]
        },
        {
          "output_type": "display_data",
          "data": {
            "image/png": "[encoded data removed]",
            "text/plain": [
              "<Figure size 432x288 with 2 Axes>"
            ]
          },
          "metadata": {
            "needs_background": "light"
          }
        },
        {
          "output_type": "stream",
          "name": "stdout",
          "text": [
            "valor de k =80\n",
            "Classification report for classifier KNeighborsClassifier(n_neighbors=80)\n",
            "              precision    recall  f1-score   support\n",
            "\n",
            "           0       0.93      0.93      0.93        54\n",
            "           1       0.91      0.91      0.91        46\n",
            "\n",
            "    accuracy                           0.92       100\n",
            "   macro avg       0.92      0.92      0.92       100\n",
            "weighted avg       0.92      0.92      0.92       100\n",
            "\n",
            "\n"
          ]
        },
        {
          "output_type": "display_data",
          "data": {
            "image/png": "[encoded data removed]",
            "text/plain": [
              "<Figure size 432x288 with 2 Axes>"
            ]
          },
          "metadata": {
            "needs_background": "light"
          }
        }
      ]
    },
    {
      "cell_type": "markdown",
      "metadata": {
        "id": "bt7mHi7gz-3z"
      },
      "source": [
        "Puede observarse un comportamiento inestable en función del numero de vecinos para el cual el modelo hace la clasificación, sin embargo se observa como involucrar un valor muy alto de k puede ser nocivo para el modelo como el en caso de k = 80. Es por esto que el valor de k debe estar alrededor de la raiz de N. Ademas que entre más vecinos a considerar más lento es el modelo."
      ]
    },
    {
      "cell_type": "markdown",
      "metadata": {
        "id": "EUlinUqqtvRy"
      },
      "source": [
        "**Variando los centroides y covarianzas del Dataset, con k = 10**"
      ]
    },
    {
      "cell_type": "code",
      "metadata": {
        "id": "FEsofwOJtp3T",
        "outputId": "da63c861-086b-4115-dae2-66eb9f66647c",
        "colab": {
          "base_uri": "https://localhost:8080/",
          "height": 296
        }
      },
      "source": [
        "N_data = 100\n",
        "mediaA1 = 4\n",
        "mediaB1 = 3\n",
        "desvA1 = 3\n",
        "desvB1 = 4\n",
        "\n",
        "mediaA2 = 6\n",
        "mediaB2 = 8\n",
        "desvA2 = 3\n",
        "desvB2 = 2\n",
        "\n",
        "X1, Y1 = np.random.normal(loc= mediaA1, scale=desvA1, size=N_data), np.random.normal(loc= mediaB1, scale=desvB1, size=N_data)\n",
        "df1 = pd.DataFrame({'Target':'1','X':X1,'Y':Y1})\n",
        "\n",
        "X2, Y2 = np.random.normal(loc= mediaA2, scale=desvA2, size=N_data), np.random.normal(loc= mediaB2, scale=desvB2, size=N_data)\n",
        "df2 = pd.DataFrame({'Target':'0','X':X2,'Y':Y2})\n",
        "\n",
        "df = pd.concat([df1,df2], ignore_index= True, axis=0)\n",
        "df = df.sample(n = N_data*2) \n",
        "sns.scatterplot(data=df, x=\"X\", y=\"Y\", hue=\"Target\", style=\"Target\")\n"
      ],
      "execution_count": 9,
      "outputs": [
        {
          "output_type": "execute_result",
          "data": {
            "text/plain": [
              "<matplotlib.axes._subplots.AxesSubplot at 0x7f06eb2512d0>"
            ]
          },
          "metadata": {},
          "execution_count": 9
        },
        {
          "output_type": "display_data",
          "data": {
            "image/png": "[encoded data removed]",
            "text/plain": [
              "<Figure size 432x288 with 1 Axes>"
            ]
          },
          "metadata": {
            "needs_background": "light"
          }
        }
      ]
    },
    {
      "cell_type": "code",
      "metadata": {
        "id": "CT6kvOK5vACX",
        "outputId": "e9368bbe-6371-4b75-f91b-2ca5a18e651d",
        "colab": {
          "base_uri": "https://localhost:8080/",
          "height": 470
        }
      },
      "source": [
        "X = df.iloc[:,1:3]\n",
        "y = df.iloc[:,0]\n",
        "X_train, X_test, y_train, y_test = train_test_split(X, y, test_size=0.5, random_state=42)\n",
        "k = 10\n",
        "knn = neighbors.KNeighborsClassifier(n_neighbors=k)\n",
        "knn.fit(X_train, y_train)\n",
        "y_predicted =knn.predict(X_test)\n",
        "print(\"Classification report for classifier {}\\n{}\\n\".format(knn, metrics.classification_report(y_test, y_predicted)))\n",
        "confusion_matrix = pd.crosstab(y_test, y_predicted, rownames=['Actual'], colnames=['Predicted'])\n",
        "sns.heatmap(confusion_matrix, annot=True)\n",
        "plt.show()"
      ],
      "execution_count": 10,
      "outputs": [
        {
          "output_type": "stream",
          "name": "stdout",
          "text": [
            "Classification report for classifier KNeighborsClassifier(n_neighbors=10)\n",
            "              precision    recall  f1-score   support\n",
            "\n",
            "           0       0.83      0.84      0.83        51\n",
            "           1       0.83      0.82      0.82        49\n",
            "\n",
            "    accuracy                           0.83       100\n",
            "   macro avg       0.83      0.83      0.83       100\n",
            "weighted avg       0.83      0.83      0.83       100\n",
            "\n",
            "\n"
          ]
        },
        {
          "output_type": "display_data",
          "data": {
            "image/png": "[encoded data removed]",
            "text/plain": [
              "<Figure size 432x288 with 2 Axes>"
            ]
          },
          "metadata": {
            "needs_background": "light"
          }
        }
      ]
    },
    {
      "cell_type": "markdown",
      "metadata": {
        "id": "uQoLM2Xl6SUH"
      },
      "source": [
        "Puede observarse como al tener un dataset con medias mas cercanas y covarianza mas dispersa, al modelo se le dificulta clasificar estos datos confusos, lo cual es de esperarse puesto que es un clasificador muy simple y por lo general una buena clasificación depende en gran medida de la dispersion de los datos. "
      ]
    },
    {
      "cell_type": "markdown",
      "metadata": {
        "id": "Hj7YZ5lrvp0z"
      },
      "source": [
        "**Probando con un dataset de 3 clases**"
      ]
    },
    {
      "cell_type": "code",
      "metadata": {
        "id": "AW0PG2T6vw_W",
        "outputId": "4543e128-db69-4825-92d2-509fbe37b5e2",
        "colab": {
          "base_uri": "https://localhost:8080/",
          "height": 206
        }
      },
      "source": [
        "N_data = 100\n",
        "mediaA1 = 4\n",
        "mediaB1 = 3\n",
        "mediaC1 = 5\n",
        "desvA1 = 3\n",
        "desvB1 = 4\n",
        "desvC1 = 3\n",
        "\n",
        "mediaA2 = 6\n",
        "mediaB2 = 8\n",
        "mediaC2 = 5\n",
        "desvA2 = 3\n",
        "desvB2 = 2\n",
        "desvC2 = 4\n",
        "\n",
        "X1, Y1, Z1 = np.random.normal(loc= mediaA1, scale=desvA1, size=N_data), np.random.normal(loc= mediaB1, scale=desvB1, size=N_data), np.random.normal(loc= mediaC1, scale=desvC1, size=N_data)\n",
        "df1 = pd.DataFrame({'Target':'1','X':X1,'Y':Y1, 'Z':Z1})\n",
        "\n",
        "X2, Y2, Z2 = np.random.normal(loc= mediaA2, scale=desvA2, size=N_data), np.random.normal(loc= mediaB2, scale=desvB2, size=N_data), np.random.normal(loc= mediaC1, scale=desvC1, size=N_data) \n",
        "df2 = pd.DataFrame({'Target':'0','X':X2,'Y':Y2, 'Z':Z2})\n",
        "\n",
        "df = pd.concat([df1,df2], ignore_index= True, axis=0)\n",
        "df = df.sample(n = N_data*2) \n",
        "df.head()"
      ],
      "execution_count": 11,
      "outputs": [
        {
          "output_type": "execute_result",
          "data": {
            "text/html": [
              "\n",
              "  <div id=\"df-6791c344-8943-4852-8b70-96349fc6e112\">\n",
              "    <div class=\"colab-df-container\">\n",
              "      <div>\n",
              "<style scoped>\n",
              "    .dataframe tbody tr th:only-of-type {\n",
              "        vertical-align: middle;\n",
              "    }\n",
              "\n",
              "    .dataframe tbody tr th {\n",
              "        vertical-align: top;\n",
              "    }\n",
              "\n",
              "    .dataframe thead th {\n",
              "        text-align: right;\n",
              "    }\n",
              "</style>\n",
              "<table border=\"1\" class=\"dataframe\">\n",
              "  <thead>\n",
              "    <tr style=\"text-align: right;\">\n",
              "      <th></th>\n",
              "      <th>Target</th>\n",
              "      <th>X</th>\n",
              "      <th>Y</th>\n",
              "      <th>Z</th>\n",
              "    </tr>\n",
              "  </thead>\n",
              "  <tbody>\n",
              "    <tr>\n",
              "      <th>84</th>\n",
              "      <td>1</td>\n",
              "      <td>6.761774</td>\n",
              "      <td>2.715755</td>\n",
              "      <td>7.588803</td>\n",
              "    </tr>\n",
              "    <tr>\n",
              "      <th>166</th>\n",
              "      <td>0</td>\n",
              "      <td>5.637999</td>\n",
              "      <td>9.209719</td>\n",
              "      <td>1.010150</td>\n",
              "    </tr>\n",
              "    <tr>\n",
              "      <th>6</th>\n",
              "      <td>1</td>\n",
              "      <td>3.086665</td>\n",
              "      <td>-2.818057</td>\n",
              "      <td>8.564322</td>\n",
              "    </tr>\n",
              "    <tr>\n",
              "      <th>95</th>\n",
              "      <td>1</td>\n",
              "      <td>2.947045</td>\n",
              "      <td>3.325141</td>\n",
              "      <td>8.296693</td>\n",
              "    </tr>\n",
              "    <tr>\n",
              "      <th>28</th>\n",
              "      <td>1</td>\n",
              "      <td>8.034764</td>\n",
              "      <td>0.223076</td>\n",
              "      <td>4.553707</td>\n",
              "    </tr>\n",
              "  </tbody>\n",
              "</table>\n",
              "</div>\n",
              "      <button class=\"colab-df-convert\" onclick=\"convertToInteractive('df-6791c344-8943-4852-8b70-96349fc6e112')\"\n",
              "              title=\"Convert this dataframe to an interactive table.\"\n",
              "              style=\"display:none;\">\n",
              "        \n",
              "  <svg xmlns=\"http://www.w3.org/2000/svg\" height=\"24px\"viewBox=\"0 0 24 24\"\n",
              "       width=\"24px\">\n",
              "    <path d=\"M0 0h24v24H0V0z\" fill=\"none\"/>\n",
              "    <path d=\"M18.56 5.44l.94 2.06.94-2.06 2.06-.94-2.06-.94-.94-2.06-.94 2.06-2.06.94zm-11 1L8.5 8.5l.94-2.06 2.06-.94-2.06-.94L8.5 2.5l-.94 2.06-2.06.94zm10 10l.94 2.06.94-2.06 2.06-.94-2.06-.94-.94-2.06-.94 2.06-2.06.94z\"/><path d=\"M17.41 7.96l-1.37-1.37c-.4-.4-.92-.59-1.43-.59-.52 0-1.04.2-1.43.59L10.3 9.45l-7.72 7.72c-.78.78-.78 2.05 0 2.83L4 21.41c.39.39.9.59 1.41.59.51 0 1.02-.2 1.41-.59l7.78-7.78 2.81-2.81c.8-.78.8-2.07 0-2.86zM5.41 20L4 18.59l7.72-7.72 1.47 1.35L5.41 20z\"/>\n",
              "  </svg>\n",
              "      </button>\n",
              "      \n",
              "  <style>\n",
              "    .colab-df-container {\n",
              "      display:flex;\n",
              "      flex-wrap:wrap;\n",
              "      gap: 12px;\n",
              "    }\n",
              "\n",
              "    .colab-df-convert {\n",
              "      background-color: #E8F0FE;\n",
              "      border: none;\n",
              "      border-radius: 50%;\n",
              "      cursor: pointer;\n",
              "      display: none;\n",
              "      fill: #1967D2;\n",
              "      height: 32px;\n",
              "      padding: 0 0 0 0;\n",
              "      width: 32px;\n",
              "    }\n",
              "\n",
              "    .colab-df-convert:hover {\n",
              "      background-color: #E2EBFA;\n",
              "      box-shadow: 0px 1px 2px rgba(60, 64, 67, 0.3), 0px 1px 3px 1px rgba(60, 64, 67, 0.15);\n",
              "      fill: #174EA6;\n",
              "    }\n",
              "\n",
              "    [theme=dark] .colab-df-convert {\n",
              "      background-color: #3B4455;\n",
              "      fill: #D2E3FC;\n",
              "    }\n",
              "\n",
              "    [theme=dark] .colab-df-convert:hover {\n",
              "      background-color: #434B5C;\n",
              "      box-shadow: 0px 1px 3px 1px rgba(0, 0, 0, 0.15);\n",
              "      filter: drop-shadow(0px 1px 2px rgba(0, 0, 0, 0.3));\n",
              "      fill: #FFFFFF;\n",
              "    }\n",
              "  </style>\n",
              "\n",
              "      <script>\n",
              "        const buttonEl =\n",
              "          document.querySelector('#df-6791c344-8943-4852-8b70-96349fc6e112 button.colab-df-convert');\n",
              "        buttonEl.style.display =\n",
              "          google.colab.kernel.accessAllowed ? 'block' : 'none';\n",
              "\n",
              "        async function convertToInteractive(key) {\n",
              "          const element = document.querySelector('#df-6791c344-8943-4852-8b70-96349fc6e112');\n",
              "          const dataTable =\n",
              "            await google.colab.kernel.invokeFunction('convertToInteractive',\n",
              "                                                     [key], {});\n",
              "          if (!dataTable) return;\n",
              "\n",
              "          const docLinkHtml = 'Like what you see? Visit the ' +\n",
              "            '<a target=\"_blank\" href=https://colab.research.google.com/notebooks/data_table.ipynb>data table notebook</a>'\n",
              "            + ' to learn more about interactive tables.';\n",
              "          element.innerHTML = '';\n",
              "          dataTable['output_type'] = 'display_data';\n",
              "          await google.colab.output.renderOutput(dataTable, element);\n",
              "          const docLink = document.createElement('div');\n",
              "          docLink.innerHTML = docLinkHtml;\n",
              "          element.appendChild(docLink);\n",
              "        }\n",
              "      </script>\n",
              "    </div>\n",
              "  </div>\n",
              "  "
            ],
            "text/plain": [
              "    Target         X         Y         Z\n",
              "84       1  6.761774  2.715755  7.588803\n",
              "166      0  5.637999  9.209719  1.010150\n",
              "6        1  3.086665 -2.818057  8.564322\n",
              "95       1  2.947045  3.325141  8.296693\n",
              "28       1  8.034764  0.223076  4.553707"
            ]
          },
          "metadata": {},
          "execution_count": 11
        }
      ]
    },
    {
      "cell_type": "code",
      "metadata": {
        "id": "VdhpFQHyxNU5",
        "outputId": "b455a85d-3f1b-49ce-aa2b-003709247d18",
        "colab": {
          "base_uri": "https://localhost:8080/",
          "height": 470
        }
      },
      "source": [
        "X = df.iloc[:,1:4]\n",
        "y = df.iloc[:,0]\n",
        "X_train, X_test, y_train, y_test = train_test_split(X, y, test_size=0.5, random_state=42)\n",
        "k = 10\n",
        "knn = neighbors.KNeighborsClassifier(n_neighbors=k)\n",
        "knn.fit(X_train, y_train)\n",
        "y_predicted =knn.predict(X_test)\n",
        "print(\"Classification report for classifier {}\\n{}\\n\".format(knn, metrics.classification_report(y_test, y_predicted)))\n",
        "confusion_matrix = pd.crosstab(y_test, y_predicted, rownames=['Actual'], colnames=['Predicted'])\n",
        "sns.heatmap(confusion_matrix, annot=True)\n",
        "plt.show()"
      ],
      "execution_count": 12,
      "outputs": [
        {
          "output_type": "stream",
          "name": "stdout",
          "text": [
            "Classification report for classifier KNeighborsClassifier(n_neighbors=10)\n",
            "              precision    recall  f1-score   support\n",
            "\n",
            "           0       0.75      0.86      0.80        50\n",
            "           1       0.84      0.72      0.77        50\n",
            "\n",
            "    accuracy                           0.79       100\n",
            "   macro avg       0.80      0.79      0.79       100\n",
            "weighted avg       0.80      0.79      0.79       100\n",
            "\n",
            "\n"
          ]
        },
        {
          "output_type": "display_data",
          "data": {
            "image/png": "[encoded data removed]",
            "text/plain": [
              "<Figure size 432x288 with 2 Axes>"
            ]
          },
          "metadata": {
            "needs_background": "light"
          }
        }
      ]
    },
    {
      "cell_type": "markdown",
      "metadata": {
        "id": "kDHJ5I38x7g9"
      },
      "source": [
        "El proceso de entrenamiento no cambia si hay mas varibles, solo hay que involucrar las nuevas features a la hora de entrenar el modelo. En este caso el modelo tiene problemas para predecir el Target 1, habria que verificar si con otros parametros el modelo logra una mejor predicción y un mejor valor de los parametros de calidad."
      ]
    }
  ]
}