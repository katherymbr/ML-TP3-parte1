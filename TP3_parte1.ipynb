{
  "nbformat": 4,
  "nbformat_minor": 0,
  "metadata": {
    "colab": {
      "name": " TP3-parte1.ipynb",
      "provenance": [],
      "collapsed_sections": [],
      "include_colab_link": true
    },
    "kernelspec": {
      "name": "python3",
      "display_name": "Python 3"
    }
  },
  "cells": [
    {
      "cell_type": "markdown",
      "metadata": {
        "id": "view-in-github",
        "colab_type": "text"
      },
      "source": [
        "<a href=\"https://colab.research.google.com/github/katherymbr/ML-TP3-parte1/blob/main/TP3_parte1.ipynb\" target=\"_parent\"><img src=\"https://colab.research.google.com/assets/colab-badge.svg\" alt=\"Open In Colab\"/></a>"
      ]
    },
    {
      "cell_type": "markdown",
      "source": [
        "APRENDIZAJE DE MÁQUINAS (ML)\n",
        "---\n",
        "\n",
        "PRACTICO No. 3. - Parte 1\n",
        "\n",
        "\n",
        "\n",
        "\n",
        "---\n",
        "\n",
        "\n",
        "**Encontrar un clasificador por K-NN y evaluar exactitud, precisión, f-measure.s**\n",
        "---\n",
        "\n",
        "\n",
        "```\n",
        "Estudiante: Katherym Bambague Ruíz\n",
        "```\n"
      ],
      "metadata": {
        "id": "TYPJp_gqYqZm"
      }
    },
    {
      "cell_type": "markdown",
      "metadata": {
        "id": "k9YsvzH2a02X"
      },
      "source": [
        "# **EJERCICIO No. 1**\n",
        "\n",
        "Supongamos que tenemos un dataset mezcla de dos grupos aleatorios bidimensionales (cada uno con 100 datos, su centroide y covariancia).\n",
        "Tip: reutilizar el código de la NB que vimos para outliers.\n",
        "Encontrar un clasificador por K-NN y evaluar exactitud, precisión, f-measure. Tomar inicialmente un dataset de entrenamiento de N=100 (50+50), k=10, y validar con el resto del dataset. Hacer algunos experimentos con otros N y k, y también cambiando centroide y covariancia de las clases."
      ]
    },
    {
      "cell_type": "markdown",
      "source": [
        "*Importo las librerias*"
      ],
      "metadata": {
        "id": "CsG2pr7Bap8F"
      }
    },
    {
      "cell_type": "code",
      "metadata": {
        "id": "TMSPNGoLbH-K"
      },
      "source": [
        "import random\n",
        "import numpy as np\n",
        "import pandas as pd\n",
        "import seaborn as sns\n",
        "import matplotlib.pyplot as plt"
      ],
      "execution_count": 1,
      "outputs": []
    },
    {
      "cell_type": "code",
      "metadata": {
        "id": "KEqK2I0mapez",
        "outputId": "0118eb0d-dcca-4589-f50d-9d824484b017",
        "colab": {
          "base_uri": "https://localhost:8080/",
          "height": 206
        }
      },
      "source": [
        "N_data = 100\n",
        "mediaA1 = 5\n",
        "mediaB1 = 2\n",
        "desvA1 = 2\n",
        "desvB1 = 2.5\n",
        "\n",
        "mediaA2 = 6\n",
        "mediaB2 = 8\n",
        "desvA2 = 2\n",
        "desvB2 = 2\n",
        "\n",
        "X1, Y1 = np.random.normal(loc= mediaA1, scale=desvA1, size=N_data), np.random.normal(loc= mediaB1, scale=desvB1, size=N_data)\n",
        "df1 = pd.DataFrame({'Target':'1','X':X1,'Y':Y1})\n",
        "\n",
        "X2, Y2 = np.random.normal(loc= mediaA2, scale=desvA2, size=N_data), np.random.normal(loc= mediaB2, scale=desvB2, size=N_data)\n",
        "df2 = pd.DataFrame({'Target':'0','X':X2,'Y':Y2})\n",
        "\n",
        "df = pd.concat([df1,df2], ignore_index= True, axis=0)\n",
        "df = df.sample(n = N_data*2) \n",
        "df.head()"
      ],
      "execution_count": 2,
      "outputs": [
        {
          "output_type": "execute_result",
          "data": {
            "text/html": [
              "\n",
              "  <div id=\"df-fbdaea42-11ce-49b6-b0ea-d895d41a5d68\">\n",
              "    <div class=\"colab-df-container\">\n",
              "      <div>\n",
              "<style scoped>\n",
              "    .dataframe tbody tr th:only-of-type {\n",
              "        vertical-align: middle;\n",
              "    }\n",
              "\n",
              "    .dataframe tbody tr th {\n",
              "        vertical-align: top;\n",
              "    }\n",
              "\n",
              "    .dataframe thead th {\n",
              "        text-align: right;\n",
              "    }\n",
              "</style>\n",
              "<table border=\"1\" class=\"dataframe\">\n",
              "  <thead>\n",
              "    <tr style=\"text-align: right;\">\n",
              "      <th></th>\n",
              "      <th>Target</th>\n",
              "      <th>X</th>\n",
              "      <th>Y</th>\n",
              "    </tr>\n",
              "  </thead>\n",
              "  <tbody>\n",
              "    <tr>\n",
              "      <th>86</th>\n",
              "      <td>1</td>\n",
              "      <td>3.445911</td>\n",
              "      <td>-0.515231</td>\n",
              "    </tr>\n",
              "    <tr>\n",
              "      <th>162</th>\n",
              "      <td>0</td>\n",
              "      <td>7.526642</td>\n",
              "      <td>6.365461</td>\n",
              "    </tr>\n",
              "    <tr>\n",
              "      <th>136</th>\n",
              "      <td>0</td>\n",
              "      <td>2.253867</td>\n",
              "      <td>8.951972</td>\n",
              "    </tr>\n",
              "    <tr>\n",
              "      <th>105</th>\n",
              "      <td>0</td>\n",
              "      <td>4.573050</td>\n",
              "      <td>7.141618</td>\n",
              "    </tr>\n",
              "    <tr>\n",
              "      <th>127</th>\n",
              "      <td>0</td>\n",
              "      <td>6.190593</td>\n",
              "      <td>9.725987</td>\n",
              "    </tr>\n",
              "  </tbody>\n",
              "</table>\n",
              "</div>\n",
              "      <button class=\"colab-df-convert\" onclick=\"convertToInteractive('df-fbdaea42-11ce-49b6-b0ea-d895d41a5d68')\"\n",
              "              title=\"Convert this dataframe to an interactive table.\"\n",
              "              style=\"display:none;\">\n",
              "        \n",
              "  <svg xmlns=\"http://www.w3.org/2000/svg\" height=\"24px\"viewBox=\"0 0 24 24\"\n",
              "       width=\"24px\">\n",
              "    <path d=\"M0 0h24v24H0V0z\" fill=\"none\"/>\n",
              "    <path d=\"M18.56 5.44l.94 2.06.94-2.06 2.06-.94-2.06-.94-.94-2.06-.94 2.06-2.06.94zm-11 1L8.5 8.5l.94-2.06 2.06-.94-2.06-.94L8.5 2.5l-.94 2.06-2.06.94zm10 10l.94 2.06.94-2.06 2.06-.94-2.06-.94-.94-2.06-.94 2.06-2.06.94z\"/><path d=\"M17.41 7.96l-1.37-1.37c-.4-.4-.92-.59-1.43-.59-.52 0-1.04.2-1.43.59L10.3 9.45l-7.72 7.72c-.78.78-.78 2.05 0 2.83L4 21.41c.39.39.9.59 1.41.59.51 0 1.02-.2 1.41-.59l7.78-7.78 2.81-2.81c.8-.78.8-2.07 0-2.86zM5.41 20L4 18.59l7.72-7.72 1.47 1.35L5.41 20z\"/>\n",
              "  </svg>\n",
              "      </button>\n",
              "      \n",
              "  <style>\n",
              "    .colab-df-container {\n",
              "      display:flex;\n",
              "      flex-wrap:wrap;\n",
              "      gap: 12px;\n",
              "    }\n",
              "\n",
              "    .colab-df-convert {\n",
              "      background-color: #E8F0FE;\n",
              "      border: none;\n",
              "      border-radius: 50%;\n",
              "      cursor: pointer;\n",
              "      display: none;\n",
              "      fill: #1967D2;\n",
              "      height: 32px;\n",
              "      padding: 0 0 0 0;\n",
              "      width: 32px;\n",
              "    }\n",
              "\n",
              "    .colab-df-convert:hover {\n",
              "      background-color: #E2EBFA;\n",
              "      box-shadow: 0px 1px 2px rgba(60, 64, 67, 0.3), 0px 1px 3px 1px rgba(60, 64, 67, 0.15);\n",
              "      fill: #174EA6;\n",
              "    }\n",
              "\n",
              "    [theme=dark] .colab-df-convert {\n",
              "      background-color: #3B4455;\n",
              "      fill: #D2E3FC;\n",
              "    }\n",
              "\n",
              "    [theme=dark] .colab-df-convert:hover {\n",
              "      background-color: #434B5C;\n",
              "      box-shadow: 0px 1px 3px 1px rgba(0, 0, 0, 0.15);\n",
              "      filter: drop-shadow(0px 1px 2px rgba(0, 0, 0, 0.3));\n",
              "      fill: #FFFFFF;\n",
              "    }\n",
              "  </style>\n",
              "\n",
              "      <script>\n",
              "        const buttonEl =\n",
              "          document.querySelector('#df-fbdaea42-11ce-49b6-b0ea-d895d41a5d68 button.colab-df-convert');\n",
              "        buttonEl.style.display =\n",
              "          google.colab.kernel.accessAllowed ? 'block' : 'none';\n",
              "\n",
              "        async function convertToInteractive(key) {\n",
              "          const element = document.querySelector('#df-fbdaea42-11ce-49b6-b0ea-d895d41a5d68');\n",
              "          const dataTable =\n",
              "            await google.colab.kernel.invokeFunction('convertToInteractive',\n",
              "                                                     [key], {});\n",
              "          if (!dataTable) return;\n",
              "\n",
              "          const docLinkHtml = 'Like what you see? Visit the ' +\n",
              "            '<a target=\"_blank\" href=https://colab.research.google.com/notebooks/data_table.ipynb>data table notebook</a>'\n",
              "            + ' to learn more about interactive tables.';\n",
              "          element.innerHTML = '';\n",
              "          dataTable['output_type'] = 'display_data';\n",
              "          await google.colab.output.renderOutput(dataTable, element);\n",
              "          const docLink = document.createElement('div');\n",
              "          docLink.innerHTML = docLinkHtml;\n",
              "          element.appendChild(docLink);\n",
              "        }\n",
              "      </script>\n",
              "    </div>\n",
              "  </div>\n",
              "  "
            ],
            "text/plain": [
              "    Target         X         Y\n",
              "86       1  3.445911 -0.515231\n",
              "162      0  7.526642  6.365461\n",
              "136      0  2.253867  8.951972\n",
              "105      0  4.573050  7.141618\n",
              "127      0  6.190593  9.725987"
            ]
          },
          "metadata": {},
          "execution_count": 2
        }
      ]
    },
    {
      "cell_type": "code",
      "metadata": {
        "id": "n2yGbATgc13S",
        "outputId": "75f42e87-5849-4f4a-f072-bb7ea698590d",
        "colab": {
          "base_uri": "https://localhost:8080/",
          "height": 296
        }
      },
      "source": [
        "sns.scatterplot(data=df, x=\"X\", y=\"Y\", hue=\"Target\", style=\"Target\")"
      ],
      "execution_count": 3,
      "outputs": [
        {
          "output_type": "execute_result",
          "data": {
            "text/plain": [
              "<matplotlib.axes._subplots.AxesSubplot at 0x7f9981529d90>"
            ]
          },
          "metadata": {},
          "execution_count": 3
        },
        {
          "output_type": "display_data",
          "data": {
            "image/png": "[encoded data removed]",
            "text/plain": [
              "<Figure size 432x288 with 1 Axes>"
            ]
          },
          "metadata": {
            "needs_background": "light"
          }
        }
      ]
    },
    {
      "cell_type": "markdown",
      "metadata": {
        "id": "oMRZnwjnkqQH"
      },
      "source": [
        "*Ahora fraccionamos el Dataset en Test en 50/50 y Train*"
      ]
    },
    {
      "cell_type": "code",
      "metadata": {
        "id": "6orckEbxd6mv"
      },
      "source": [
        "from sklearn import neighbors\n",
        "from sklearn.model_selection import train_test_split\n",
        "from sklearn import metrics\n",
        "\n",
        "X = df.iloc[:,1:3]\n",
        "y = df.iloc[:,0]\n",
        "X_train, X_test, y_train, y_test = train_test_split(X, y, test_size=0.5, random_state=42)"
      ],
      "execution_count": 4,
      "outputs": []
    },
    {
      "cell_type": "markdown",
      "metadata": {
        "id": "885ivjd6k2CL"
      },
      "source": [
        "Se entrena el modelo KNN para un valor de 10 vecinos cercanos y se observan los parametros de calidad del modelo"
      ]
    },
    {
      "cell_type": "code",
      "metadata": {
        "id": "q1licVnJg7b4",
        "outputId": "ad51060b-3b61-4475-f5aa-faf0cfc52b21",
        "colab": {
          "base_uri": "https://localhost:8080/"
        }
      },
      "source": [
        "k = 10\n",
        "knn = neighbors.KNeighborsClassifier(n_neighbors=k)\n",
        "knn.fit(X_train, y_train)\n",
        "y_predicted =knn.predict(X_test)\n",
        "print(\"Classification report for classifier {}\\n{}\\n\".format(knn, metrics.classification_report(y_test, y_predicted)))"
      ],
      "execution_count": 5,
      "outputs": [
        {
          "output_type": "stream",
          "name": "stdout",
          "text": [
            "Classification report for classifier KNeighborsClassifier(n_neighbors=10)\n",
            "              precision    recall  f1-score   support\n",
            "\n",
            "           0       0.94      0.84      0.88        55\n",
            "           1       0.82      0.93      0.87        45\n",
            "\n",
            "    accuracy                           0.88       100\n",
            "   macro avg       0.88      0.88      0.88       100\n",
            "weighted avg       0.89      0.88      0.88       100\n",
            "\n",
            "\n"
          ]
        }
      ]
    },
    {
      "cell_type": "code",
      "metadata": {
        "id": "ruwnOEjOlWYr",
        "outputId": "ea454024-edcb-4fb7-f17c-50e46af41662",
        "colab": {
          "base_uri": "https://localhost:8080/",
          "height": 279
        }
      },
      "source": [
        "confusion_matrix = pd.crosstab(y_test, y_predicted, rownames=['Actual'], colnames=['Predicted'])\n",
        "sns.heatmap(confusion_matrix, annot=True)\n",
        "plt.show()"
      ],
      "execution_count": 6,
      "outputs": [
        {
          "output_type": "display_data",
          "data": {
            "image/png": "[encoded data removed]",
            "text/plain": [
              "<Figure size 432x288 with 2 Axes>"
            ]
          },
          "metadata": {
            "needs_background": "light"
          }
        }
      ]
    },
    {
      "cell_type": "markdown",
      "metadata": {
        "id": "WlzSgGdOzcXn"
      },
      "source": [
        "Se puede observar como el modelo en general hace una buena clasificación y manteniendo los parametros de calidad del modelo por encima de 0.9"
      ]
    },
    {
      "cell_type": "markdown",
      "metadata": {
        "id": "eOQWcGVJnCyB"
      },
      "source": [
        "**Variando el tamaño de dataset N = 100, 300, 600, 900. Manteniendo k = 10**"
      ]
    },
    {
      "cell_type": "code",
      "metadata": {
        "id": "wCEt1_QknZFq",
        "outputId": "aaea462c-8c27-4a52-f7b2-b9445e70ee09",
        "colab": {
          "base_uri": "https://localhost:8080/",
          "height": 1000
        }
      },
      "source": [
        "N_data = [100, 300, 600, 900]\n",
        "\n",
        "for a in N_data:\n",
        "\n",
        "  X1, Y1 = np.random.normal(loc= mediaA1, scale=desvA1, size=a), np.random.normal(loc= mediaB1, scale=desvB1, size=a)\n",
        "  df1 = pd.DataFrame({'Target':'1','X':X1,'Y':Y1})\n",
        "\n",
        "  X2, Y2 = np.random.normal(loc= mediaA2, scale=desvA2, size=a), np.random.normal(loc= mediaB2, scale=desvB2, size=a)\n",
        "  df2 = pd.DataFrame({'Target':'0','X':X2,'Y':Y2})\n",
        "\n",
        "  df = pd.concat([df1,df2], ignore_index= True, axis=0)\n",
        "  df = df.sample(n = a*2) \n",
        "  X = df.iloc[:,1:3]\n",
        "  y = df.iloc[:,0]\n",
        "  X_train, X_test, y_train, y_test = train_test_split(X, y, test_size=0.5, random_state=42)\n",
        "  knn.fit(X_train, y_train)\n",
        "  y_predicted =knn.predict(X_test)\n",
        "  print(\"Classification report for classifier {}\\n{}\\n\".format(knn, metrics.classification_report(y_test, y_predicted)))\n",
        "  confusion_matrix = pd.crosstab(y_test, y_predicted, rownames=['Actual'], colnames=['Predicted'])\n",
        "  sns.heatmap(confusion_matrix, annot=True)\n",
        "  plt.show()"
      ],
      "execution_count": 7,
      "outputs": [
        {
          "output_type": "stream",
          "name": "stdout",
          "text": [
            "Classification report for classifier KNeighborsClassifier(n_neighbors=10)\n",
            "              precision    recall  f1-score   support\n",
            "\n",
            "           0       0.83      0.94      0.88        53\n",
            "           1       0.93      0.79      0.85        47\n",
            "\n",
            "    accuracy                           0.87       100\n",
            "   macro avg       0.88      0.87      0.87       100\n",
            "weighted avg       0.88      0.87      0.87       100\n",
            "\n",
            "\n"
          ]
        },
        {
          "output_type": "display_data",
          "data": {
            "image/png": "[encoded data removed]",
            "text/plain": [
              "<Figure size 432x288 with 2 Axes>"
            ]
          },
          "metadata": {
            "needs_background": "light"
          }
        },
        {
          "output_type": "stream",
          "name": "stdout",
          "text": [
            "Classification report for classifier KNeighborsClassifier(n_neighbors=10)\n",
            "              precision    recall  f1-score   support\n",
            "\n",
            "           0       0.83      0.96      0.89       145\n",
            "           1       0.95      0.82      0.88       155\n",
            "\n",
            "    accuracy                           0.89       300\n",
            "   macro avg       0.89      0.89      0.89       300\n",
            "weighted avg       0.90      0.89      0.89       300\n",
            "\n",
            "\n"
          ]
        },
        {
          "output_type": "display_data",
          "data": {
            "image/png": "[encoded data removed]",
            "text/plain": [
              "<Figure size 432x288 with 2 Axes>"
            ]
          },
          "metadata": {
            "needs_background": "light"
          }
        },
        {
          "output_type": "stream",
          "name": "stdout",
          "text": [
            "Classification report for classifier KNeighborsClassifier(n_neighbors=10)\n",
            "              precision    recall  f1-score   support\n",
            "\n",
            "           0       0.89      0.89      0.89       293\n",
            "           1       0.90      0.90      0.90       307\n",
            "\n",
            "    accuracy                           0.90       600\n",
            "   macro avg       0.90      0.90      0.90       600\n",
            "weighted avg       0.90      0.90      0.90       600\n",
            "\n",
            "\n"
          ]
        },
        {
          "output_type": "display_data",
          "data": {
            "image/png": "[encoded data removed]",
            "text/plain": [
              "<Figure size 432x288 with 2 Axes>"
            ]
          },
          "metadata": {
            "needs_background": "light"
          }
        },
        {
          "output_type": "stream",
          "name": "stdout",
          "text": [
            "Classification report for classifier KNeighborsClassifier(n_neighbors=10)\n",
            "              precision    recall  f1-score   support\n",
            "\n",
            "           0       0.90      0.92      0.91       465\n",
            "           1       0.91      0.89      0.90       435\n",
            "\n",
            "    accuracy                           0.90       900\n",
            "   macro avg       0.91      0.90      0.90       900\n",
            "weighted avg       0.90      0.90      0.90       900\n",
            "\n",
            "\n"
          ]
        },
        {
          "output_type": "display_data",
          "data": {
            "image/png": "[encoded data removed]",
            "text/plain": [
              "<Figure size 432x288 with 2 Axes>"
            ]
          },
          "metadata": {
            "needs_background": "light"
          }
        }
      ]
    },
    {
      "cell_type": "markdown",
      "metadata": {
        "id": "G2OClu52ymqZ"
      },
      "source": [
        "Existe alguna variación en los parametros de calidad del modelo a medida que se aumenta el numero de datos, esto debido a la distribución de estos en fucion de la media y la covarianza. Sin embargo el modelo es muy estable y mantiene buenos indices de clasificación. "
      ]
    },
    {
      "cell_type": "markdown",
      "metadata": {
        "id": "9swY0xFAq6aO"
      },
      "source": [
        "**Variando el numero de vecinos k, para N = 100**"
      ]
    },
    {
      "cell_type": "code",
      "metadata": {
        "id": "gKcuLVPZq5kM",
        "outputId": "bf8f9085-1f7f-47b8-fd92-9bd531509da2",
        "colab": {
          "base_uri": "https://localhost:8080/",
          "height": 1000
        }
      },
      "source": [
        "\n",
        "N_data = 100\n",
        "\n",
        "X1, Y1 = np.random.normal(loc= mediaA1, scale=desvA1, size=N_data), np.random.normal(loc= mediaB1, scale=desvB1, size=N_data)\n",
        "df1 = pd.DataFrame({'Target':'1','X':X1,'Y':Y1})\n",
        "\n",
        "X2, Y2 = np.random.normal(loc= mediaA2, scale=desvA2, size=N_data), np.random.normal(loc= mediaB2, scale=desvB2, size=N_data)\n",
        "df2 = pd.DataFrame({'Target':'0','X':X2,'Y':Y2})\n",
        "\n",
        "df = pd.concat([df1,df2], ignore_index= True, axis=0)\n",
        "df = df.sample(n = N_data*2) \n",
        "\n",
        "X = df.iloc[:,1:3]\n",
        "y = df.iloc[:,0]\n",
        "X_train, X_test, y_train, y_test = train_test_split(X, y, test_size=0.5, random_state=42)\n",
        "\n",
        "knn = [5, 10, 20, 40, 80]\n",
        "\n",
        "for k in knn:\n",
        "  knn = neighbors.KNeighborsClassifier(n_neighbors=k)\n",
        "  knn.fit(X_train, y_train)\n",
        "  y_predicted =knn.predict(X_test)\n",
        "  print('valor de k =' + str(k))\n",
        "  print(\"Classification report for classifier {}\\n{}\\n\".format(knn, metrics.classification_report(y_test, y_predicted)))\n",
        "  confusion_matrix = pd.crosstab(y_test, y_predicted, rownames=['Actual'], colnames=['Predicted'])\n",
        "  sns.heatmap(confusion_matrix, annot=True)\n",
        "  plt.show()"
      ],
      "execution_count": 8,
      "outputs": [
        {
          "output_type": "stream",
          "name": "stdout",
          "text": [
            "valor de k =5\n",
            "Classification report for classifier KNeighborsClassifier()\n",
            "              precision    recall  f1-score   support\n",
            "\n",
            "           0       0.86      0.87      0.86        55\n",
            "           1       0.84      0.82      0.83        45\n",
            "\n",
            "    accuracy                           0.85       100\n",
            "   macro avg       0.85      0.85      0.85       100\n",
            "weighted avg       0.85      0.85      0.85       100\n",
            "\n",
            "\n"
          ]
        },
        {
          "output_type": "display_data",
          "data": {
            "image/png": "[encoded data removed]",
            "text/plain": [
              "<Figure size 432x288 with 2 Axes>"
            ]
          },
          "metadata": {
            "needs_background": "light"
          }
        },
        {
          "output_type": "stream",
          "name": "stdout",
          "text": [
            "valor de k =10\n",
            "Classification report for classifier KNeighborsClassifier(n_neighbors=10)\n",
            "              precision    recall  f1-score   support\n",
            "\n",
            "           0       0.87      0.95      0.90        55\n",
            "           1       0.93      0.82      0.87        45\n",
            "\n",
            "    accuracy                           0.89       100\n",
            "   macro avg       0.90      0.88      0.89       100\n",
            "weighted avg       0.89      0.89      0.89       100\n",
            "\n",
            "\n"
          ]
        },
        {
          "output_type": "display_data",
          "data": {
            "image/png": "[encoded data removed]",
            "text/plain": [
              "<Figure size 432x288 with 2 Axes>"
            ]
          },
          "metadata": {
            "needs_background": "light"
          }
        },
        {
          "output_type": "stream",
          "name": "stdout",
          "text": [
            "valor de k =20\n",
            "Classification report for classifier KNeighborsClassifier(n_neighbors=20)\n",
            "              precision    recall  f1-score   support\n",
            "\n",
            "           0       0.87      0.95      0.90        55\n",
            "           1       0.93      0.82      0.87        45\n",
            "\n",
            "    accuracy                           0.89       100\n",
            "   macro avg       0.90      0.88      0.89       100\n",
            "weighted avg       0.89      0.89      0.89       100\n",
            "\n",
            "\n"
          ]
        },
        {
          "output_type": "display_data",
          "data": {
            "image/png": "[encoded data removed]",
            "text/plain": [
              "<Figure size 432x288 with 2 Axes>"
            ]
          },
          "metadata": {
            "needs_background": "light"
          }
        },
        {
          "output_type": "stream",
          "name": "stdout",
          "text": [
            "valor de k =40\n",
            "Classification report for classifier KNeighborsClassifier(n_neighbors=40)\n",
            "              precision    recall  f1-score   support\n",
            "\n",
            "           0       0.89      0.93      0.91        55\n",
            "           1       0.91      0.87      0.89        45\n",
            "\n",
            "    accuracy                           0.90       100\n",
            "   macro avg       0.90      0.90      0.90       100\n",
            "weighted avg       0.90      0.90      0.90       100\n",
            "\n",
            "\n"
          ]
        },
        {
          "output_type": "display_data",
          "data": {
            "image/png": "[encoded data removed]",
            "text/plain": [
              "<Figure size 432x288 with 2 Axes>"
            ]
          },
          "metadata": {
            "needs_background": "light"
          }
        },
        {
          "output_type": "stream",
          "name": "stdout",
          "text": [
            "valor de k =80\n",
            "Classification report for classifier KNeighborsClassifier(n_neighbors=80)\n",
            "              precision    recall  f1-score   support\n",
            "\n",
            "           0       0.90      0.82      0.86        55\n",
            "           1       0.80      0.89      0.84        45\n",
            "\n",
            "    accuracy                           0.85       100\n",
            "   macro avg       0.85      0.85      0.85       100\n",
            "weighted avg       0.85      0.85      0.85       100\n",
            "\n",
            "\n"
          ]
        },
        {
          "output_type": "display_data",
          "data": {
            "image/png": "[encoded data removed]",
            "text/plain": [
              "<Figure size 432x288 with 2 Axes>"
            ]
          },
          "metadata": {
            "needs_background": "light"
          }
        }
      ]
    },
    {
      "cell_type": "markdown",
      "metadata": {
        "id": "bt7mHi7gz-3z"
      },
      "source": [
        "Puede observarse un comportamiento inestable en función del numero de vecinos para el cual el modelo hace la clasificación, sin embargo se observa como involucrar un valor muy alto de k puede ser nocivo para el modelo como el en caso de k = 80. Es por esto que el valor de k debe estar alrededor de la raiz de N. Ademas que entre más vecinos a considerar más lento es el modelo."
      ]
    },
    {
      "cell_type": "markdown",
      "metadata": {
        "id": "EUlinUqqtvRy"
      },
      "source": [
        "**Variando los centroides y covarianzas del Dataset, con k = 10**"
      ]
    },
    {
      "cell_type": "code",
      "metadata": {
        "id": "FEsofwOJtp3T",
        "outputId": "36d2c26d-2614-41a7-eeb8-900eb89a0758",
        "colab": {
          "base_uri": "https://localhost:8080/",
          "height": 296
        }
      },
      "source": [
        "N_data = 100\n",
        "mediaA1 = 4\n",
        "mediaB1 = 3\n",
        "desvA1 = 3\n",
        "desvB1 = 4\n",
        "\n",
        "mediaA2 = 6\n",
        "mediaB2 = 8\n",
        "desvA2 = 3\n",
        "desvB2 = 2\n",
        "\n",
        "X1, Y1 = np.random.normal(loc= mediaA1, scale=desvA1, size=N_data), np.random.normal(loc= mediaB1, scale=desvB1, size=N_data)\n",
        "df1 = pd.DataFrame({'Target':'1','X':X1,'Y':Y1})\n",
        "\n",
        "X2, Y2 = np.random.normal(loc= mediaA2, scale=desvA2, size=N_data), np.random.normal(loc= mediaB2, scale=desvB2, size=N_data)\n",
        "df2 = pd.DataFrame({'Target':'0','X':X2,'Y':Y2})\n",
        "\n",
        "df = pd.concat([df1,df2], ignore_index= True, axis=0)\n",
        "df = df.sample(n = N_data*2) \n",
        "sns.scatterplot(data=df, x=\"X\", y=\"Y\", hue=\"Target\", style=\"Target\")\n"
      ],
      "execution_count": 9,
      "outputs": [
        {
          "output_type": "execute_result",
          "data": {
            "text/plain": [
              "<matplotlib.axes._subplots.AxesSubplot at 0x7f998007a350>"
            ]
          },
          "metadata": {},
          "execution_count": 9
        },
        {
          "output_type": "display_data",
          "data": {
            "image/png": "[encoded data removed]",
            "text/plain": [
              "<Figure size 432x288 with 1 Axes>"
            ]
          },
          "metadata": {
            "needs_background": "light"
          }
        }
      ]
    },
    {
      "cell_type": "code",
      "metadata": {
        "id": "CT6kvOK5vACX",
        "outputId": "d1e4a9fe-8b38-41d1-ce82-0bf4765569ca",
        "colab": {
          "base_uri": "https://localhost:8080/",
          "height": 474
        }
      },
      "source": [
        "X = df.iloc[:,1:3]\n",
        "y = df.iloc[:,0]\n",
        "X_train, X_test, y_train, y_test = train_test_split(X, y, test_size=0.5, random_state=42)\n",
        "k = 10\n",
        "knn = neighbors.KNeighborsClassifier(n_neighbors=k)\n",
        "knn.fit(X_train, y_train)\n",
        "y_predicted =knn.predict(X_test)\n",
        "print(\"Classification report for classifier {}\\n{}\\n\".format(knn, metrics.classification_report(y_test, y_predicted)))\n",
        "confusion_matrix = pd.crosstab(y_test, y_predicted, rownames=['Actual'], colnames=['Predicted'])\n",
        "sns.heatmap(confusion_matrix, annot=True)\n",
        "plt.show()"
      ],
      "execution_count": 10,
      "outputs": [
        {
          "output_type": "stream",
          "name": "stdout",
          "text": [
            "Classification report for classifier KNeighborsClassifier(n_neighbors=10)\n",
            "              precision    recall  f1-score   support\n",
            "\n",
            "           0       0.65      0.93      0.76        43\n",
            "           1       0.92      0.61      0.74        57\n",
            "\n",
            "    accuracy                           0.75       100\n",
            "   macro avg       0.78      0.77      0.75       100\n",
            "weighted avg       0.80      0.75      0.75       100\n",
            "\n",
            "\n"
          ]
        },
        {
          "output_type": "display_data",
          "data": {
            "image/png": "[encoded data removed]",
            "text/plain": [
              "<Figure size 432x288 with 2 Axes>"
            ]
          },
          "metadata": {
            "needs_background": "light"
          }
        }
      ]
    },
    {
      "cell_type": "markdown",
      "metadata": {
        "id": "uQoLM2Xl6SUH"
      },
      "source": [
        "Puede observarse como al tener un dataset con medias mas cercanas y covarianza mas dispersa, al modelo se le dificulta clasificar estos datos confusos, lo cual es de esperarse puesto que es un clasificador muy simple y por lo general una buena clasificación depende en gran medida de la dispersion de los datos. "
      ]
    },
    {
      "cell_type": "markdown",
      "metadata": {
        "id": "Hj7YZ5lrvp0z"
      },
      "source": [
        "**Probando con un dataset de 3 clases**"
      ]
    },
    {
      "cell_type": "code",
      "metadata": {
        "id": "AW0PG2T6vw_W",
        "outputId": "7ef54123-b962-4c61-bfe9-a7cbb59c988e",
        "colab": {
          "base_uri": "https://localhost:8080/",
          "height": 206
        }
      },
      "source": [
        "N_data = 100\n",
        "mediaA1 = 4\n",
        "mediaB1 = 3\n",
        "mediaC1 = 5\n",
        "desvA1 = 3\n",
        "desvB1 = 4\n",
        "desvC1 = 3\n",
        "\n",
        "mediaA2 = 6\n",
        "mediaB2 = 8\n",
        "mediaC2 = 5\n",
        "desvA2 = 3\n",
        "desvB2 = 2\n",
        "desvC2 = 4\n",
        "\n",
        "X1, Y1, Z1 = np.random.normal(loc= mediaA1, scale=desvA1, size=N_data), np.random.normal(loc= mediaB1, scale=desvB1, size=N_data), np.random.normal(loc= mediaC1, scale=desvC1, size=N_data)\n",
        "df1 = pd.DataFrame({'Target':'1','X':X1,'Y':Y1, 'Z':Z1})\n",
        "\n",
        "X2, Y2, Z2 = np.random.normal(loc= mediaA2, scale=desvA2, size=N_data), np.random.normal(loc= mediaB2, scale=desvB2, size=N_data), np.random.normal(loc= mediaC1, scale=desvC1, size=N_data) \n",
        "df2 = pd.DataFrame({'Target':'0','X':X2,'Y':Y2, 'Z':Z2})\n",
        "\n",
        "df = pd.concat([df1,df2], ignore_index= True, axis=0)\n",
        "df = df.sample(n = N_data*2) \n",
        "df.head()"
      ],
      "execution_count": 11,
      "outputs": [
        {
          "output_type": "execute_result",
          "data": {
            "text/html": [
              "\n",
              "  <div id=\"df-30985e5d-e6a8-4996-8ab8-648ca0612efd\">\n",
              "    <div class=\"colab-df-container\">\n",
              "      <div>\n",
              "<style scoped>\n",
              "    .dataframe tbody tr th:only-of-type {\n",
              "        vertical-align: middle;\n",
              "    }\n",
              "\n",
              "    .dataframe tbody tr th {\n",
              "        vertical-align: top;\n",
              "    }\n",
              "\n",
              "    .dataframe thead th {\n",
              "        text-align: right;\n",
              "    }\n",
              "</style>\n",
              "<table border=\"1\" class=\"dataframe\">\n",
              "  <thead>\n",
              "    <tr style=\"text-align: right;\">\n",
              "      <th></th>\n",
              "      <th>Target</th>\n",
              "      <th>X</th>\n",
              "      <th>Y</th>\n",
              "      <th>Z</th>\n",
              "    </tr>\n",
              "  </thead>\n",
              "  <tbody>\n",
              "    <tr>\n",
              "      <th>47</th>\n",
              "      <td>1</td>\n",
              "      <td>3.042869</td>\n",
              "      <td>7.550097</td>\n",
              "      <td>-3.647587</td>\n",
              "    </tr>\n",
              "    <tr>\n",
              "      <th>190</th>\n",
              "      <td>0</td>\n",
              "      <td>3.299621</td>\n",
              "      <td>6.464890</td>\n",
              "      <td>0.472113</td>\n",
              "    </tr>\n",
              "    <tr>\n",
              "      <th>196</th>\n",
              "      <td>0</td>\n",
              "      <td>6.267556</td>\n",
              "      <td>9.248494</td>\n",
              "      <td>2.728373</td>\n",
              "    </tr>\n",
              "    <tr>\n",
              "      <th>9</th>\n",
              "      <td>1</td>\n",
              "      <td>-1.192611</td>\n",
              "      <td>0.223265</td>\n",
              "      <td>4.181390</td>\n",
              "    </tr>\n",
              "    <tr>\n",
              "      <th>53</th>\n",
              "      <td>1</td>\n",
              "      <td>5.560442</td>\n",
              "      <td>8.512106</td>\n",
              "      <td>8.293719</td>\n",
              "    </tr>\n",
              "  </tbody>\n",
              "</table>\n",
              "</div>\n",
              "      <button class=\"colab-df-convert\" onclick=\"convertToInteractive('df-30985e5d-e6a8-4996-8ab8-648ca0612efd')\"\n",
              "              title=\"Convert this dataframe to an interactive table.\"\n",
              "              style=\"display:none;\">\n",
              "        \n",
              "  <svg xmlns=\"http://www.w3.org/2000/svg\" height=\"24px\"viewBox=\"0 0 24 24\"\n",
              "       width=\"24px\">\n",
              "    <path d=\"M0 0h24v24H0V0z\" fill=\"none\"/>\n",
              "    <path d=\"M18.56 5.44l.94 2.06.94-2.06 2.06-.94-2.06-.94-.94-2.06-.94 2.06-2.06.94zm-11 1L8.5 8.5l.94-2.06 2.06-.94-2.06-.94L8.5 2.5l-.94 2.06-2.06.94zm10 10l.94 2.06.94-2.06 2.06-.94-2.06-.94-.94-2.06-.94 2.06-2.06.94z\"/><path d=\"M17.41 7.96l-1.37-1.37c-.4-.4-.92-.59-1.43-.59-.52 0-1.04.2-1.43.59L10.3 9.45l-7.72 7.72c-.78.78-.78 2.05 0 2.83L4 21.41c.39.39.9.59 1.41.59.51 0 1.02-.2 1.41-.59l7.78-7.78 2.81-2.81c.8-.78.8-2.07 0-2.86zM5.41 20L4 18.59l7.72-7.72 1.47 1.35L5.41 20z\"/>\n",
              "  </svg>\n",
              "      </button>\n",
              "      \n",
              "  <style>\n",
              "    .colab-df-container {\n",
              "      display:flex;\n",
              "      flex-wrap:wrap;\n",
              "      gap: 12px;\n",
              "    }\n",
              "\n",
              "    .colab-df-convert {\n",
              "      background-color: #E8F0FE;\n",
              "      border: none;\n",
              "      border-radius: 50%;\n",
              "      cursor: pointer;\n",
              "      display: none;\n",
              "      fill: #1967D2;\n",
              "      height: 32px;\n",
              "      padding: 0 0 0 0;\n",
              "      width: 32px;\n",
              "    }\n",
              "\n",
              "    .colab-df-convert:hover {\n",
              "      background-color: #E2EBFA;\n",
              "      box-shadow: 0px 1px 2px rgba(60, 64, 67, 0.3), 0px 1px 3px 1px rgba(60, 64, 67, 0.15);\n",
              "      fill: #174EA6;\n",
              "    }\n",
              "\n",
              "    [theme=dark] .colab-df-convert {\n",
              "      background-color: #3B4455;\n",
              "      fill: #D2E3FC;\n",
              "    }\n",
              "\n",
              "    [theme=dark] .colab-df-convert:hover {\n",
              "      background-color: #434B5C;\n",
              "      box-shadow: 0px 1px 3px 1px rgba(0, 0, 0, 0.15);\n",
              "      filter: drop-shadow(0px 1px 2px rgba(0, 0, 0, 0.3));\n",
              "      fill: #FFFFFF;\n",
              "    }\n",
              "  </style>\n",
              "\n",
              "      <script>\n",
              "        const buttonEl =\n",
              "          document.querySelector('#df-30985e5d-e6a8-4996-8ab8-648ca0612efd button.colab-df-convert');\n",
              "        buttonEl.style.display =\n",
              "          google.colab.kernel.accessAllowed ? 'block' : 'none';\n",
              "\n",
              "        async function convertToInteractive(key) {\n",
              "          const element = document.querySelector('#df-30985e5d-e6a8-4996-8ab8-648ca0612efd');\n",
              "          const dataTable =\n",
              "            await google.colab.kernel.invokeFunction('convertToInteractive',\n",
              "                                                     [key], {});\n",
              "          if (!dataTable) return;\n",
              "\n",
              "          const docLinkHtml = 'Like what you see? Visit the ' +\n",
              "            '<a target=\"_blank\" href=https://colab.research.google.com/notebooks/data_table.ipynb>data table notebook</a>'\n",
              "            + ' to learn more about interactive tables.';\n",
              "          element.innerHTML = '';\n",
              "          dataTable['output_type'] = 'display_data';\n",
              "          await google.colab.output.renderOutput(dataTable, element);\n",
              "          const docLink = document.createElement('div');\n",
              "          docLink.innerHTML = docLinkHtml;\n",
              "          element.appendChild(docLink);\n",
              "        }\n",
              "      </script>\n",
              "    </div>\n",
              "  </div>\n",
              "  "
            ],
            "text/plain": [
              "    Target         X         Y         Z\n",
              "47       1  3.042869  7.550097 -3.647587\n",
              "190      0  3.299621  6.464890  0.472113\n",
              "196      0  6.267556  9.248494  2.728373\n",
              "9        1 -1.192611  0.223265  4.181390\n",
              "53       1  5.560442  8.512106  8.293719"
            ]
          },
          "metadata": {},
          "execution_count": 11
        }
      ]
    },
    {
      "cell_type": "code",
      "metadata": {
        "id": "VdhpFQHyxNU5",
        "outputId": "14696b4a-85fd-49e5-ed3a-45ea52eb04d7",
        "colab": {
          "base_uri": "https://localhost:8080/",
          "height": 474
        }
      },
      "source": [
        "X = df.iloc[:,1:4]\n",
        "y = df.iloc[:,0]\n",
        "X_train, X_test, y_train, y_test = train_test_split(X, y, test_size=0.5, random_state=42)\n",
        "k = 10\n",
        "knn = neighbors.KNeighborsClassifier(n_neighbors=k)\n",
        "knn.fit(X_train, y_train)\n",
        "y_predicted =knn.predict(X_test)\n",
        "print(\"Classification report for classifier {}\\n{}\\n\".format(knn, metrics.classification_report(y_test, y_predicted)))\n",
        "confusion_matrix = pd.crosstab(y_test, y_predicted, rownames=['Actual'], colnames=['Predicted'])\n",
        "sns.heatmap(confusion_matrix, annot=True)\n",
        "plt.show()"
      ],
      "execution_count": 12,
      "outputs": [
        {
          "output_type": "stream",
          "name": "stdout",
          "text": [
            "Classification report for classifier KNeighborsClassifier(n_neighbors=10)\n",
            "              precision    recall  f1-score   support\n",
            "\n",
            "           0       0.74      0.92      0.82        49\n",
            "           1       0.90      0.69      0.78        51\n",
            "\n",
            "    accuracy                           0.80       100\n",
            "   macro avg       0.82      0.80      0.80       100\n",
            "weighted avg       0.82      0.80      0.80       100\n",
            "\n",
            "\n"
          ]
        },
        {
          "output_type": "display_data",
          "data": {
            "image/png": "[encoded data removed]",
            "text/plain": [
              "<Figure size 432x288 with 2 Axes>"
            ]
          },
          "metadata": {
            "needs_background": "light"
          }
        }
      ]
    },
    {
      "cell_type": "markdown",
      "metadata": {
        "id": "kDHJ5I38x7g9"
      },
      "source": [
        "El proceso de entrenamiento no cambia si hay mas varibles, solo hay que involucrar las nuevas features a la hora de entrenar el modelo. En este caso el modelo tiene problemas para predecir el Target 1, habria que verificar si con otros parametros el modelo logra una mejor predicción y un mejor valor de los parametros de calidad."
      ]
    }
  ]
}